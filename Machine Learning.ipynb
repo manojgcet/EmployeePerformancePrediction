{
  "cells": [
    {
      "cell_type": "code",
      "execution_count": 3,
      "metadata": {
        "id": "87vbHK1y-at1"
      },
      "outputs": [],
      "source": [
        "import pandas as pd\n",
        "import seaborn as sns\n",
        "import matplotlib.pyplot as plt\n",
        "import MultiColumnLabelEncoder\n",
        "from sklearn.model_selection import train_test_split\n",
        "from sklearn.linear_model import LinearRegression\n",
        "from sklearn.metrics import mean_squared_error\n",
        "from sklearn.metrics import r2_score\n",
        "from sklearn.metrics import mean_absolute_error\n",
        "from sklearn.ensemble import RandomForestRegressor\n",
        "import xgboost as xgb\n",
        "import pickle"
      ]
    },
    {
      "cell_type": "code",
      "execution_count": null,
      "metadata": {
        "id": "VBeoKR8G_7xa"
      },
      "outputs": [],
      "source": [
        "data=pd.read_csv('/content/garments_worker_productivity.csv')\n",
        "data.head()"
      ]
    },
    {
      "cell_type": "code",
      "execution_count": null,
      "metadata": {
        "id": "Ky-_5S7oBQgI"
      },
      "outputs": [],
      "source": [
        "corrMatrix=data.corr()\n",
        "fig, ax= plt.subplots(figsize=(15,15))\n",
        "sns.heatmap(corrMatrix, annot=True, linewidths=0.5, ax=ax)\n",
        "plt.show()"
      ]
    },
    {
      "cell_type": "code",
      "execution_count": null,
      "metadata": {
        "id": "aXIBHqMUBXSD"
      },
      "outputs": [],
      "source": [
        "data.describe()"
      ]
    },
    {
      "cell_type": "code",
      "execution_count": null,
      "metadata": {
        "id": "d0j5Q5ycBf6d"
      },
      "outputs": [],
      "source": [
        "data.shape"
      ]
    },
    {
      "cell_type": "code",
      "execution_count": null,
      "metadata": {
        "id": "O1mZSpMBBf1t"
      },
      "outputs": [],
      "source": [
        "data.info()"
      ]
    },
    {
      "cell_type": "code",
      "execution_count": null,
      "metadata": {
        "id": "xPR05KYPBzAC"
      },
      "outputs": [],
      "source": [
        "data.isnull().sum()"
      ]
    },
    {
      "cell_type": "code",
      "execution_count": null,
      "metadata": {
        "id": "nIYVQjQ0CASU"
      },
      "outputs": [],
      "source": [
        "data.drop(['wip'],axis=1,inplace=True)"
      ]
    },
    {
      "cell_type": "code",
      "execution_count": null,
      "metadata": {
        "id": "CSw1iAvYCRy6"
      },
      "outputs": [],
      "source": [
        "data['date']=pd.to_datetime(data['date'])\n",
        "data.date"
      ]
    },
    {
      "cell_type": "code",
      "execution_count": null,
      "metadata": {
        "id": "ZKHFFNlQCcM-"
      },
      "outputs": [],
      "source": [
        "data['month']=data['date'].dt.month\n",
        "data.drop(['date'],axis=1,inplace=True)\n",
        "data.month"
      ]
    },
    {
      "cell_type": "code",
      "execution_count": null,
      "metadata": {
        "id": "rxFCyb2nGyUw"
      },
      "outputs": [],
      "source": [
        "data['department'].value_counts()"
      ]
    },
    {
      "cell_type": "code",
      "execution_count": null,
      "metadata": {
        "id": "l8bvgZf4G5mq"
      },
      "outputs": [],
      "source": [
        "data['department']=data['department'].apply(lambda x: 'finishing' if x.replace(\" \",\"\") == 'finishing' else 'sweing')\n",
        "data['department'].value_counts()"
      ]
    },
    {
      "cell_type": "code",
      "execution_count": null,
      "metadata": {
        "id": "fkbeMxIpHgVy"
      },
      "outputs": [],
      "source": [
        "Mcle=MultiColumnLabelEncoder.MultiColumnLabelEncoder()\n",
        "data=Mcle.fit_transform(data)"
      ]
    },
    {
      "cell_type": "code",
      "execution_count": null,
      "metadata": {
        "id": "qzDCDJQ7H1ux"
      },
      "outputs": [],
      "source": [
        "x=data.drop(['actual_productivity'],axis=1)\n",
        "y=data['actual_productivity']\n",
        "X=x.to_numpy()\n",
        "X"
      ]
    },
    {
      "cell_type": "code",
      "execution_count": null,
      "metadata": {
        "id": "7b8JQs7GINpC"
      },
      "outputs": [],
      "source": [
        "x_train,x_test,y_train,y_test=train_test_split(X,y,test_size=0.8,random_state=0)"
      ]
    },
    {
      "cell_type": "code",
      "execution_count": null,
      "metadata": {
        "id": "SG07Aa4uIbUj"
      },
      "outputs": [],
      "source": [
        "model_lr=LinearRegression()\n",
        "pred_test=model_lr.predict(x_test)\n",
        "print(\"test_MSE:\",mean_squared_error(y_test,pred_test))\n",
        "print(\"test_MAE:\",mean_absolute_error(y_test,pred_test))\n",
        "print(\"R2_Score:{}\".format(r2_score(y_test,pred_test)))"
      ]
    },
    {
      "cell_type": "code",
      "execution_count": null,
      "metadata": {
        "id": "2rachPSOJNJn"
      },
      "outputs": [],
      "source": [
        "model_rf=RandomForestRegressor(n_estimators=200, max_depth=5)\n",
        "pred=model_rf.predict(x_test)\n",
        "print(\"test_MSE:\",mean_squared_error(y_test,pred))\n",
        "print(\"test_MAE:\",mean_absolute_error(y_test,pred))\n",
        "print(\"R2_Score:{}\".format(r2_score(y_test,pred)))"
      ]
    },
    {
      "cell_type": "code",
      "execution_count": null,
      "metadata": {
        "id": "W0rohbTOJwLf"
      },
      "outputs": [],
      "source": [
        "model_xgb = xgb.XGBRegressor(n_estimators = 200, max_depth=5,learning_rate = 0.1)\n",
        "pred3=model_xgb.predict(x_test)\n",
        "print(\"test_MSE:\",mean_squared_error(y_test,pred3))\n",
        "print(\"test_MAE:\",mean_absolute_error(y_test,pred3))\n",
        "print(\"R2_Score:{}\".format(r2_score(y_test,pred3)))"
      ]
    }
  ],
  "metadata": {
    "colab": {
      "provenance": []
    },
    "kernelspec": {
      "display_name": "Python 3",
      "name": "python3"
    },
    "language_info": {
      "name": "python"
    }
  },
  "nbformat": 4,
  "nbformat_minor": 0
}
